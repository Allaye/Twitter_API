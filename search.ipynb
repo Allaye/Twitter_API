{
 "cells": [
  {
   "cell_type": "code",
   "execution_count": 2,
   "metadata": {},
   "outputs": [],
   "source": [
    "#Import libraries\n",
    "\n",
    "import tweepy\n",
    "from tweepy import OAuthHandler\n",
    "import json\n",
    "from datetime import datetime\n",
    "import os\n",
    "import sys\n",
    "import pandas as pd"
   ]
  },
  {
   "cell_type": "code",
   "execution_count": 3,
   "metadata": {},
   "outputs": [],
   "source": [
    "#Copy and paste API keys from twitter dev account\n",
    "\n",
    "consumer_key = 'bD3azrO438rkOg5zz8Eb4eW1L'\n",
    "consumer_secret = 'mWVCEE5tKcQNJBOB6SvY6fXbAlMs4d6ak6VKtSDCRefKUJtAiQ'\n",
    "access_token = '163119178-4uih9Du1ynVfq6tnuk1xPtxZ36YH9Dm6UX91nPYd'\n",
    "access_secret = 'Zh59PuKEfcTOwurZJeLhxwFYX9vOTJ9ha1XZxoB5VcV9A'\n",
    "auth = OAuthHandler(consumer_key, consumer_secret)\n",
    "auth.set_access_token(access_token, access_secret)\n",
    "api = tweepy.API(auth, wait_on_rate_limit=True)"
   ]
  },
  {
   "cell_type": "code",
   "execution_count": 5,
   "metadata": {},
   "outputs": [],
   "source": [
    "def search_query(keyword, maximun=10):\n",
    "    text_query = keyword\n",
    "    tweets = tweepy.Cursor(api.search, q=text_query, lang='en').items(maximun)\n",
    "    tweet_data = list()\n",
    "    for tweet in tweets:\n",
    "        tweet_data.append({\"Date\": tweet.created_at, \"username\": tweet.user.name, \"screen_name\": tweet.user.screen_name, \n",
    "                           \"user_location\": tweet.user.location, \"user_friends_count\": tweet.user.friends_count,\n",
    "                           \"verified?\": tweet.user.verified, \"user_bio\": tweet.user.description, \"followers_count\" \n",
    "                           : tweet.user.followers_count, \"Tweet\": tweet.text, \"likes\" : tweet.favorite_count, \n",
    "                           \"retweets\": tweet.retweet_count, \"source\": tweet.source, \"tweet_id\": tweet.id,\n",
    "                           \"tweet_coordinates\": tweet.coordinates, \"hashtags\" :tweet.entities['hashtags']})\n",
    "    tweet_df = pd.DataFrame(tweet_data)\n",
    "    return tweet_df.to_csv(f'{datetime.today().strftime(\"%Y-%m-%d %H-%M-%S\")}.csv')"
   ]
  },
  {
   "cell_type": "code",
   "execution_count": 36,
   "metadata": {},
   "outputs": [],
   "source": [
    "#convert ArtetaOut data frame to .csv\n",
    "ArtetaOut.to_csv(f'{datetime.today().strftime(\"%Y-%m-%d %H-%M-%S\")}.csv')"
   ]
  },
  {
   "cell_type": "code",
   "execution_count": 6,
   "metadata": {},
   "outputs": [],
   "source": [
    "search_query('chelsea')"
   ]
  },
  {
   "cell_type": "code",
   "execution_count": null,
   "metadata": {},
   "outputs": [],
   "source": []
  }
 ],
 "metadata": {
  "kernelspec": {
   "display_name": "Python 3",
   "language": "python",
   "name": "python3"
  },
  "language_info": {
   "codemirror_mode": {
    "name": "ipython",
    "version": 3
   },
   "file_extension": ".py",
   "mimetype": "text/x-python",
   "name": "python",
   "nbconvert_exporter": "python",
   "pygments_lexer": "ipython3",
   "version": "3.8.1"
  }
 },
 "nbformat": 4,
 "nbformat_minor": 4
}
